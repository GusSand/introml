{
 "cells": [
  {
   "cell_type": "markdown",
   "metadata": {},
   "source": [
    "# Numpy Array Operations:  Axes and Broadcasting \n",
    "\n",
    "There is an excellent introduction to `numpy` multi-dimensional arrays on the [scipy](https://docs.scipy.org/doc/numpy-dev/user/quickstart.html) website.  In this note, we cover two concepts in a little more detail:\n",
    "* Using the `axis` feature \n",
    "* Python broadcasting\n",
    "\n",
    "We will need both of these for performing many of the numerical operations for the ML class.\n",
    "\n",
    "As usual, we begin by loading the `numpy` package."
   ]
  },
  {
   "cell_type": "code",
   "execution_count": 4,
   "metadata": {},
   "outputs": [],
   "source": [
    "import numpy as np"
   ]
  },
  {
   "cell_type": "markdown",
   "metadata": {},
   "source": [
    "## Axis Parameter\n",
    "\n",
    "Many operations in the `numpy` package can take an optional `axis` parameter to specify which dimensions the operation is to be applied.  This is extremely useful for multi-dimensional data.  To illustrate the `axis` parameter, consider a matrix the `(3,2)` array `X` defined as:"
   ]
  },
  {
   "cell_type": "code",
   "execution_count": 5,
   "metadata": {},
   "outputs": [
    {
     "name": "stdout",
     "output_type": "stream",
     "text": [
      "[[0 1]\n",
      " [2 3]\n",
      " [4 5]]\n"
     ]
    }
   ],
   "source": [
    "X = np.arange(6).reshape(3,2)\n",
    "print(X)"
   ]
  },
  {
   "cell_type": "markdown",
   "metadata": {},
   "source": [
    "An operation like `np.mean` or `np.sum` takes the mean or sum of *all* elements in the array. "
   ]
  },
  {
   "cell_type": "code",
   "execution_count": 9,
   "metadata": {},
   "outputs": [
    {
     "name": "stdout",
     "output_type": "stream",
     "text": [
      "2.5\n",
      "15\n"
     ]
    }
   ],
   "source": [
    "print(np.mean(X))\n",
    "print(np.sum(X))"
   ]
  },
  {
   "cell_type": "markdown",
   "metadata": {},
   "source": [
    "To take only the `sum` along each column, we can use the `axis` parameter."
   ]
  },
  {
   "cell_type": "code",
   "execution_count": 10,
   "metadata": {},
   "outputs": [
    {
     "name": "stdout",
     "output_type": "stream",
     "text": [
      "[6 9]\n"
     ]
    }
   ],
   "source": [
    "print(np.sum(X,axis=0))"
   ]
  },
  {
   "cell_type": "markdown",
   "metadata": {},
   "source": [
    "Since `X` has shape `(3,2)`, the output `np.sum(X,axis=0)` is of shape `(2,)`.  Similarly, we can take the `sum` along each row:"
   ]
  },
  {
   "cell_type": "code",
   "execution_count": 11,
   "metadata": {},
   "outputs": [
    {
     "name": "stdout",
     "output_type": "stream",
     "text": [
      "[1 5 9]\n"
     ]
    }
   ],
   "source": [
    "print(np.sum(X,axis=1))"
   ]
  },
  {
   "cell_type": "markdown",
   "metadata": {},
   "source": [
    "You can apply this to higher-order arrays:"
   ]
  },
  {
   "cell_type": "code",
   "execution_count": 6,
   "metadata": {},
   "outputs": [
    {
     "name": "stdout",
     "output_type": "stream",
     "text": [
      "Y1 = \n",
      "[[12 14 16 18]\n",
      " [20 22 24 26]\n",
      " [28 30 32 34]]\n",
      "Y2 = \n",
      "[[12 15 18 21]\n",
      " [48 51 54 57]]\n"
     ]
    }
   ],
   "source": [
    "X = np.arange(24).reshape(2,3,4)  # shape = (2,3,4)\n",
    "Y1 = np.sum(X,axis=0)             # shape = (3,4)\n",
    "Y2 = np.sum(X,axis=1)             # shape = (2,4)\n",
    "print('Y1 = ')\n",
    "print(Y1)\n",
    "print('Y2 = ')\n",
    "print(Y2)"
   ]
  },
  {
   "cell_type": "markdown",
   "metadata": {},
   "source": [
    "## Broadcasting\n",
    "\n",
    "**Broadcasting** is a powerful tool in Python for performing operations on matrices that we will use throughout the ML class.  A good tutorial on broadcasting can be found on the [scipy broadcasting page](https://docs.scipy.org/doc/numpy-1.13.0/user/basics.broadcasting.html).  Here we provide some examples.   "
   ]
  },
  {
   "cell_type": "markdown",
   "metadata": {},
   "source": [
    "### Example 1:  Mean Removal\n",
    "\n",
    "Suppose that `X` is a data matrix of shape `(n,p)`.  That is, there are `n` data points and `p` features per point.  Often, we have to remove the mean from each feature.  That is, we want to compute the mean for each feature and then remove the mean from each column.  We could do this with a for-loop as:\n",
    "   \n",
    "    Xm = np.zeros(p)      # Mean for each feature\n",
    "    X1_demean = np.zeros((n,p))  # Transformed features with the means removed\n",
    "    for j in range(p):\n",
    "       Xm[j] = np.mean(X[:,j])\n",
    "       for i in range(n):\n",
    "           X_demean[i,j] = X[i,j] - Xm[j]\n",
    "           \n",
    "The code below does this without a for loop using the `axis` parameter and broadcasting."
   ]
  },
  {
   "cell_type": "code",
   "execution_count": 8,
   "metadata": {},
   "outputs": [
    {
     "name": "stdout",
     "output_type": "stream",
     "text": [
      "[[0.06998899 0.38440399 0.1879326  0.47523906 0.36444144]\n",
      " [0.54314534 0.71784155 0.5521507  0.53696181 0.35978575]\n",
      " [0.75429489 0.70658042 0.03335201 0.84080343 0.92281313]\n",
      " [0.61461192 0.93350415 0.62726523 0.52623364 0.31582621]\n",
      " [0.20764616 0.50484683 0.54753042 0.40199142 0.03729635]\n",
      " [0.74519553 0.0258903  0.87025223 0.69652461 0.52161132]\n",
      " [0.45782788 0.16246932 0.63218907 0.65184426 0.22391759]\n",
      " [0.35955442 0.7694459  0.29316092 0.27034101 0.91448135]\n",
      " [0.29423515 0.39069247 0.25840703 0.78516231 0.76434043]\n",
      " [0.10858224 0.88495186 0.48391257 0.4200071  0.75231328]\n",
      " [0.3628598  0.54553471 0.45727773 0.29638083 0.87224749]\n",
      " [0.22101814 0.18062921 0.45092652 0.61428038 0.92026183]\n",
      " [0.16113071 0.08466908 0.87671374 0.33401229 0.23700282]\n",
      " [0.21182272 0.17089119 0.52070629 0.81217154 0.05149978]\n",
      " [0.88672673 0.27415853 0.12139944 0.30821675 0.72615444]\n",
      " [0.60338132 0.28361148 0.4538438  0.03425313 0.52682474]\n",
      " [0.08367259 0.97977807 0.66470955 0.94032738 0.65774193]\n",
      " [0.87815612 0.79814037 0.86508338 0.47798985 0.49510542]\n",
      " [0.8560296  0.42867906 0.91496007 0.10243351 0.69253052]\n",
      " [0.23975691 0.72928118 0.0040657  0.77555004 0.27892378]\n",
      " [0.47881071 0.99645074 0.33304028 0.86535672 0.10216106]\n",
      " [0.74885202 0.70796734 0.27693051 0.95439436 0.9703784 ]\n",
      " [0.5233753  0.94428491 0.01627024 0.37572453 0.4752594 ]\n",
      " [0.90942504 0.14569381 0.23848085 0.02985024 0.20859456]\n",
      " [0.82584897 0.14934868 0.36330906 0.25587984 0.64116424]\n",
      " [0.01643562 0.46291566 0.97273022 0.50110156 0.55182839]\n",
      " [0.69779049 0.54459513 0.30086658 0.43593267 0.50620499]\n",
      " [0.67974471 0.14896602 0.18125535 0.75822245 0.55756121]\n",
      " [0.08753915 0.27321912 0.03568339 0.60633294 0.90507398]\n",
      " [0.02769592 0.35509646 0.3264776  0.10903407 0.64489296]\n",
      " [0.48620821 0.28588381 0.97576847 0.94686148 0.48745011]\n",
      " [0.70224062 0.92731311 0.06863891 0.38960165 0.69571379]\n",
      " [0.51064209 0.29961233 0.43749281 0.25186752 0.8827325 ]\n",
      " [0.86398929 0.15542066 0.09482008 0.02023702 0.90786244]\n",
      " [0.09173729 0.16733857 0.20575961 0.32626962 0.69280013]\n",
      " [0.07062552 0.41359612 0.00978714 0.19167282 0.3624197 ]\n",
      " [0.97068898 0.37235948 0.2517359  0.67008752 0.71932857]\n",
      " [0.67886274 0.32291575 0.9599317  0.22679856 0.43134158]\n",
      " [0.55809542 0.45037595 0.78703976 0.92571764 0.47279243]\n",
      " [0.17326198 0.27787086 0.94371982 0.09160783 0.00488694]\n",
      " [0.90885132 0.46921442 0.97978952 0.30428026 0.37542933]\n",
      " [0.91368573 0.72019596 0.22378412 0.27818038 0.71001337]\n",
      " [0.6022017  0.34137543 0.39565254 0.44899061 0.40906506]\n",
      " [0.1043447  0.65780905 0.76841958 0.4420677  0.01825506]\n",
      " [0.82798791 0.30640866 0.83960409 0.77890481 0.62551688]\n",
      " [0.07582581 0.11422653 0.37157251 0.48111048 0.62509376]\n",
      " [0.1640127  0.92862956 0.41609787 0.35028579 0.24014293]\n",
      " [0.04055415 0.285319   0.61251115 0.55550542 0.44320855]\n",
      " [0.04677422 0.89190092 0.12618343 0.87481325 0.01537148]\n",
      " [0.25381014 0.18015661 0.75738999 0.24771746 0.49155216]\n",
      " [0.57218112 0.58792155 0.372934   0.78119875 0.66293707]\n",
      " [0.43511147 0.70019316 0.93521905 0.05199909 0.50923201]\n",
      " [0.00825354 0.09880223 0.5727921  0.94609547 0.72519989]\n",
      " [0.84748331 0.63245883 0.73991549 0.09516084 0.31703497]\n",
      " [0.05210518 0.78993734 0.12685789 0.14957371 0.08983996]\n",
      " [0.2636404  0.33505678 0.90559995 0.95667557 0.25215806]\n",
      " [0.12257723 0.60726391 0.28443028 0.80844419 0.99975317]\n",
      " [0.62631203 0.59971162 0.79452159 0.71335012 0.49555146]\n",
      " [0.99592325 0.73703339 0.50629978 0.77832987 0.86749924]\n",
      " [0.39635209 0.50032864 0.16902822 0.53365041 0.99270652]\n",
      " [0.35796876 0.73574164 0.87780623 0.82115572 0.04495425]\n",
      " [0.54363812 0.41998348 0.93962479 0.03850943 0.02008845]\n",
      " [0.26880845 0.27209619 0.68643094 0.88125914 0.00873281]\n",
      " [0.55687707 0.99226995 0.59673517 0.59982299 0.6209829 ]\n",
      " [0.85356952 0.2568902  0.43863777 0.71997027 0.99480186]\n",
      " [0.64906948 0.20315905 0.0315636  0.58571848 0.46839926]\n",
      " [0.63619939 0.71182062 0.52070529 0.40603341 0.19728818]\n",
      " [0.16724132 0.93017563 0.03517551 0.16556548 0.0658422 ]\n",
      " [0.59326413 0.76886351 0.81487556 0.58687003 0.35925038]\n",
      " [0.91724594 0.32851508 0.84303951 0.86731834 0.66686765]\n",
      " [0.63711021 0.95240973 0.28617257 0.05933845 0.29938351]\n",
      " [0.91720885 0.28241392 0.22098473 0.05654524 0.10559299]\n",
      " [0.20920339 0.81719581 0.9482302  0.41984636 0.62138908]\n",
      " [0.50637355 0.50762067 0.29409866 0.22443719 0.96831792]\n",
      " [0.13667761 0.67474729 0.11305788 0.38902628 0.78339041]\n",
      " [0.31256046 0.11459268 0.96134944 0.88469422 0.56317138]\n",
      " [0.87772256 0.93343881 0.52759427 0.98629529 0.46612423]\n",
      " [0.23458928 0.1962756  0.36930184 0.83070208 0.04844003]\n",
      " [0.14622317 0.68119341 0.5767737  0.63921614 0.50527817]\n",
      " [0.09223306 0.33346464 0.97704876 0.23210722 0.5075933 ]\n",
      " [0.18412221 0.91334979 0.20820626 0.9724814  0.65222201]\n",
      " [0.50367325 0.18109636 0.02193895 0.55957099 0.94623449]\n",
      " [0.59654496 0.8190794  0.27956693 0.26483106 0.42148843]\n",
      " [0.08317795 0.36418726 0.69333905 0.70214892 0.39162381]\n",
      " [0.68602454 0.68255825 0.11477335 0.03501112 0.53528311]\n",
      " [0.81797064 0.21183854 0.73021159 0.95812087 0.92081508]\n",
      " [0.23008055 0.6539498  0.15596932 0.1204482  0.94547532]\n",
      " [0.04176634 0.65541751 0.46948327 0.54550343 0.96187806]\n",
      " [0.70499422 0.35108147 0.17095505 0.77537245 0.78702076]\n",
      " [0.01263477 0.85054257 0.22420383 0.18815078 0.4138391 ]\n",
      " [0.40598853 0.89232261 0.80683961 0.79367704 0.14376024]\n",
      " [0.09955167 0.17718974 0.19550131 0.65088088 0.46297472]\n",
      " [0.95247056 0.28223726 0.24236521 0.84019784 0.94531838]\n",
      " [0.55906601 0.77090997 0.93952285 0.3853186  0.39154662]\n",
      " [0.20893076 0.46489557 0.4076068  0.31766391 0.25486637]\n",
      " [0.52473666 0.11034445 0.24085095 0.76307989 0.09066012]\n",
      " [0.07227313 0.36032532 0.4458391  0.74214713 0.1569201 ]\n",
      " [0.0635998  0.67693264 0.07361445 0.67692538 0.1541357 ]\n",
      " [0.75024867 0.21058548 0.59334921 0.47292279 0.85180336]\n",
      " [0.68358348 0.93392658 0.94455308 0.6440063  0.57681761]]\n"
     ]
    }
   ],
   "source": [
    "import numpy as np\n",
    "\n",
    "# Generate some random data\n",
    "n = 100 #number of data points\n",
    "p = 5  #number of features'\n",
    "X = np.random.rand(n,p)\n",
    "print(X)\n",
    "\n",
    "\n"
   ]
  },
  {
   "cell_type": "code",
   "execution_count": 10,
   "metadata": {},
   "outputs": [
    {
     "name": "stdout",
     "output_type": "stream",
     "text": [
      "[0.44814718 0.50516806 0.47512077 0.516125   0.510417  ]\n"
     ]
    }
   ],
   "source": [
    "# Compute the mean per column using the axis command\n",
    "Xm = np.mean(X,axis=0)  # This is a p-dim matrix\n",
    "print (Xm)"
   ]
  },
  {
   "cell_type": "code",
   "execution_count": 11,
   "metadata": {},
   "outputs": [
    {
     "name": "stdout",
     "output_type": "stream",
     "text": [
      "[[0.44814718 0.50516806 0.47512077 0.516125   0.510417  ]]\n"
     ]
    }
   ],
   "source": [
    "print(Xm[None,:])"
   ]
  },
  {
   "cell_type": "code",
   "execution_count": 13,
   "metadata": {},
   "outputs": [],
   "source": [
    "# Subtract the mean\n",
    "X_demean = X - Xm[None,:]\n"
   ]
  },
  {
   "cell_type": "markdown",
   "metadata": {},
   "source": [
    "The command `Xm = np.mean(X,axis=0)` computes the mean of each column which is a `p` dimensional array.  Then, `Xm[None,:]` converts this to a `(1,p)` shape array.  Using Python broadcasting, we can then subtract the `Xm[None,:]` from `X`."
   ]
  },
  {
   "cell_type": "markdown",
   "metadata": {},
   "source": [
    "### Example 2:  Standardizing variables\n",
    "\n",
    "A variant of the above example is to *standardize* the features, where we compute the transform variables,\n",
    "\n",
    "    Z[i,j] = (X[i,j] - Xm[j])/ Xstd[j]\n",
    "    \n",
    "where `Xstd[j]` is the standard deviation per feature.  This can be done as follows:"
   ]
  },
  {
   "cell_type": "code",
   "execution_count": 5,
   "metadata": {},
   "outputs": [],
   "source": [
    "Xstd = np.std(X,axis=0)\n",
    "Z = (X-Xm[None,:])/Xstd[None,:]"
   ]
  },
  {
   "cell_type": "markdown",
   "metadata": {},
   "source": [
    "### Example 3:  Distances\n",
    "\n",
    "Here is a more complicated example.  Suppose we have a data matrix `X` of shape `(nx,p)` and a second set of points, `Y` of shape `(ny,p)`. For each `i` and `j`, we want to compute the distances, \n",
    "\n",
    "     d[i,j] = np.sum((X[i,:] - Y[j,:])**2)\n",
    "     \n",
    "This represents the distances between the vectors `X[i,:]` and `Y[j,:]`.  This sort of computation is used for clustering and nearest neighbors.  We can do this without a for loop as follows"
   ]
  },
  {
   "cell_type": "code",
   "execution_count": 6,
   "metadata": {},
   "outputs": [],
   "source": [
    "# Some random data\n",
    "nx = 100\n",
    "ny = 10\n",
    "p = 2\n",
    "X = np.random.rand(nx,p)\n",
    "Y = np.random.rand(ny,p)\n",
    "\n",
    "# Computing the distances in two lines.  No for loop!\n",
    "DXY = X[:,None,:]-Y[None,:,:]\n",
    "d = np.sum(DXY**2,axis=2)"
   ]
  },
  {
   "cell_type": "markdown",
   "metadata": {
    "collapsed": true
   },
   "source": [
    "How does this work? First, we use `None` keyword to reshape the matrices `X` and `Y` to compatible sizes\n",
    "\n",
    "     X[:,None,:]    # Shape nx,  1, p\n",
    "     Y[None,:,:]    # Shape 1,  ny, p\n",
    "     \n",
    "The two matrices can be subtracted so that\n",
    "\n",
    "     DXY[i,j,k]  = X[i,k] - Y[j,k]\n",
    "     \n",
    "Then, `d[i,j] = sum_k (X[i,k] - Y[j,k])**2`, which is the norm squared of the vector differences."
   ]
  },
  {
   "cell_type": "markdown",
   "metadata": {},
   "source": [
    "### Example 4:  Outer product\n",
    "\n",
    "The *outer product* of vectors `x` and `y` is the matrix `Z[i,j] = x[i]y[j]`.  This can be performed in one line as follows"
   ]
  },
  {
   "cell_type": "code",
   "execution_count": 7,
   "metadata": {
    "collapsed": true
   },
   "outputs": [],
   "source": [
    "# Some random data\n",
    "nx = 100\n",
    "ny = 10\n",
    "x = np.random.rand(nx)\n",
    "y = np.random.rand(ny)\n",
    "\n",
    "# Compute the outer product in one line\n",
    "Z = x[:,None]*y[None,:]\n"
   ]
  },
  {
   "cell_type": "markdown",
   "metadata": {},
   "source": [
    "Here:\n",
    "\n",
    "     x[:,None] # Has shape (nx,  1)\n",
    "     y[None,:] # Has shape ( 1, ny)\n",
    "     \n",
    "So, with python broadcasting:\n",
    "\n",
    "     Z = x[:,None]*y[None,:] # has shape (nx,  ny)\n"
   ]
  },
  {
   "cell_type": "markdown",
   "metadata": {
    "collapsed": true
   },
   "source": [
    "**Exercise 1:**  Given a matrix `X`, compute the matrix `Y`, where the rows of `X` are normaized to one.  That is:\n",
    "\n",
    "     Y[i,j] = X[i,j] / sum_j X[i,j]   "
   ]
  },
  {
   "cell_type": "code",
   "execution_count": 13,
   "metadata": {
    "collapsed": true
   },
   "outputs": [],
   "source": [
    "X = np.random.rand(4,3)\n",
    "# Y = ..."
   ]
  },
  {
   "cell_type": "markdown",
   "metadata": {},
   "source": [
    "**Exercise 2:** Diagonal multiplication.  Given a matrix `X` and a vector `d`, compute `Y = diag(d)*X`."
   ]
  },
  {
   "cell_type": "code",
   "execution_count": 15,
   "metadata": {},
   "outputs": [],
   "source": [
    "X = np.random.rand(5,3)\n",
    "d = np.random.rand(5)\n",
    "# Y = ..."
   ]
  },
  {
   "cell_type": "code",
   "execution_count": null,
   "metadata": {
    "collapsed": true
   },
   "outputs": [],
   "source": []
  }
 ],
 "metadata": {
  "anaconda-cloud": {},
  "kernelspec": {
   "display_name": "Python 3",
   "language": "python",
   "name": "python3"
  },
  "language_info": {
   "codemirror_mode": {
    "name": "ipython",
    "version": 3
   },
   "file_extension": ".py",
   "mimetype": "text/x-python",
   "name": "python",
   "nbconvert_exporter": "python",
   "pygments_lexer": "ipython3",
   "version": "3.7.3"
  }
 },
 "nbformat": 4,
 "nbformat_minor": 1
}
